{
 "cells": [
  {
   "cell_type": "code",
   "execution_count": null,
   "metadata": {},
   "outputs": [],
   "source": [
    "%load_ext blackcellmagic\n",
    "%alias_magic -c -p \"-l 120\" b black"
   ]
  },
  {
   "cell_type": "code",
   "execution_count": null,
   "metadata": {},
   "outputs": [],
   "source": [
    "import os\n",
    "\n",
    "import datajoint as dj\n",
    "\n",
    "dj.config[\"database.host\"] = \"experimental.db\"\n",
    "dj.config[\"database.user\"] = \"alice\"\n",
    "dj.config[\"database.password\"] = \"alice-pw\"\n",
    "\n",
    "dj.config[\"stores\"] = dict(\n",
    "    experimental_minio=dict(\n",
    "        protocol=\"s3\",\n",
    "        endpoint=\"experimental.minio:9000\",\n",
    "        bucket=\"experimental-bucket\",\n",
    "        location=\"dj-store\",\n",
    "        access_key=\"experimental\",\n",
    "        secret_key=\"experimental_secret_key\",\n",
    "    )\n",
    ")\n",
    "\n",
    "schema = dj.schema(\"alice_main\")"
   ]
  },
  {
   "cell_type": "code",
   "execution_count": null,
   "metadata": {},
   "outputs": [],
   "source": [
    "schema.drop()"
   ]
  },
  {
   "cell_type": "code",
   "execution_count": null,
   "metadata": {},
   "outputs": [],
   "source": [
    "n_entities = 10\n",
    "file_size = 1024\n",
    "temp_dir = \"temp\""
   ]
  },
  {
   "cell_type": "code",
   "execution_count": null,
   "metadata": {},
   "outputs": [],
   "source": [
    "@schema\n",
    "class Experiment(dj.Manual):\n",
    "    definition = \"\"\"\n",
    "    p_a: int\n",
    "    ---\n",
    "    s_a: int\n",
    "    s_b: attach@experimental_minio # attach@experimental\n",
    "    \"\"\"\n",
    "\n",
    "    class Electrode(dj.Part):\n",
    "        definition = \"\"\"\n",
    "        -> master\n",
    "        p_b: int\n",
    "        ---\n",
    "        s_c: int\n",
    "        \"\"\"\n",
    "\n",
    "    class Screen(dj.Part):\n",
    "        definition = \"\"\"\n",
    "        -> master\n",
    "        ---\n",
    "        s_d: attach@experimental_minio\n",
    "        s_e: int\n",
    "        \"\"\""
   ]
  },
  {
   "cell_type": "code",
   "execution_count": null,
   "metadata": {},
   "outputs": [],
   "source": [
    "def create_random_files(name, n):\n",
    "    if not os.path.exists(temp_dir):\n",
    "        os.mkdir(temp_dir)\n",
    "    file_paths = []\n",
    "    for i in range(n):\n",
    "        file_path = os.path.join(temp_dir, name + str(i) + \".rand\")\n",
    "        with open(file_path, \"wb\") as f:\n",
    "            f.write(os.urandom(file_size))\n",
    "        file_paths.append(file_path)\n",
    "    return file_paths\n",
    "\n",
    "\n",
    "def create_entities(names, n):\n",
    "    for name, kind in names.items():\n",
    "        if isinstance(kind, list):\n",
    "            continue\n",
    "        names[name] = list(range(n))\n",
    "    return [{n: x for n, x in zip(names, d)} for d in zip(*names.values())]\n",
    "\n",
    "\n",
    "def remove_files(file_paths):\n",
    "    for file_path in file_paths:\n",
    "        os.remove(file_path)"
   ]
  },
  {
   "cell_type": "code",
   "execution_count": null,
   "metadata": {},
   "outputs": [],
   "source": [
    "file_paths = create_random_files(\"experiment\", n_entities)\n",
    "entities = create_entities(dict(p_a=None, s_a=None, s_b=file_paths), n_entities)\n",
    "Experiment().insert(entities, skip_duplicates=True)\n",
    "remove_files(file_paths)"
   ]
  },
  {
   "cell_type": "code",
   "execution_count": null,
   "metadata": {},
   "outputs": [],
   "source": [
    "Experiment().Electrode().insert([dict(p_a=x, p_b=x, s_c=x) for x in range(10)], skip_duplicates=True)"
   ]
  },
  {
   "cell_type": "code",
   "execution_count": null,
   "metadata": {},
   "outputs": [],
   "source": [
    "file_paths = create_random_files(\"screen\", n_entities)\n",
    "entities = create_entities(dict(p_a=None, s_d=file_paths, s_e=None), n_entities)\n",
    "Experiment().Screen().insert(entities, skip_duplicates=True)\n",
    "remove_files(file_paths)"
   ]
  },
  {
   "cell_type": "code",
   "execution_count": null,
   "metadata": {},
   "outputs": [],
   "source": [
    "print(Experiment())\n",
    "print(Experiment().Electrode())\n",
    "print(Experiment().Screen())"
   ]
  },
  {
   "cell_type": "code",
   "execution_count": null,
   "metadata": {},
   "outputs": [],
   "source": [
    "(Experiment() & \"p_a = 3\").delete()"
   ]
  }
 ],
 "metadata": {
  "kernelspec": {
   "display_name": "Python 3",
   "language": "python",
   "name": "python3"
  },
  "language_info": {
   "codemirror_mode": {
    "name": "ipython",
    "version": 3
   },
   "file_extension": ".py",
   "mimetype": "text/x-python",
   "name": "python",
   "nbconvert_exporter": "python",
   "pygments_lexer": "ipython3",
   "version": "3.8.0"
  }
 },
 "nbformat": 4,
 "nbformat_minor": 4
}
