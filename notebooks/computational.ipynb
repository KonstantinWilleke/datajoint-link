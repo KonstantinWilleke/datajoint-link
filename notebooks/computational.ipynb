{
 "cells": [
  {
   "cell_type": "code",
   "execution_count": null,
   "metadata": {},
   "outputs": [],
   "source": [
    "%load_ext blackcellmagic\n",
    "%alias_magic -c -p \"-l 120\" b black"
   ]
  },
  {
   "cell_type": "code",
   "execution_count": null,
   "metadata": {},
   "outputs": [],
   "source": [
    "import datajoint as dj\n",
    "from link import link, schema\n",
    "\n",
    "dj.config[\"stores\"] = dict(\n",
    "    computational_minio=dict(\n",
    "        protocol=\"s3\",\n",
    "        endpoint=\"computational.minio:9000\",\n",
    "        bucket=\"computational-bucket\",\n",
    "        location=\"dj-store\",\n",
    "        access_key=\"computational\",\n",
    "        secret_key=\"computational_secret_key\",\n",
    "    ),\n",
    "    experimental_minio=dict(\n",
    "        protocol=\"s3\",\n",
    "        endpoint=\"experimental.minio:9000\",\n",
    "        bucket=\"experimental-bucket\",\n",
    "        location=\"dj-store\",\n",
    "        access_key=\"experimental\",\n",
    "        secret_key=\"experimental_secret_key\",\n",
    "    ),\n",
    ")"
   ]
  },
  {
   "cell_type": "code",
   "execution_count": null,
   "metadata": {},
   "outputs": [],
   "source": [
    "local_schema = schema(\"bob_main\")\n",
    "remote_schema = schema(\"alice_main\", host=\"experimental.db\")\n",
    "\n",
    "\n",
    "@link(local_schema, remote_schema, stores={\"computational_minio\": \"experimental_minio\"})\n",
    "class Experiment:\n",
    "    pass"
   ]
  },
  {
   "cell_type": "code",
   "execution_count": null,
   "metadata": {},
   "outputs": [],
   "source": [
    "Experiment().pull()"
   ]
  },
  {
   "cell_type": "code",
   "execution_count": null,
   "metadata": {},
   "outputs": [],
   "source": [
    "Experiment()"
   ]
  }
 ],
 "metadata": {
  "kernelspec": {
   "display_name": "Python 3",
   "language": "python",
   "name": "python3"
  },
  "language_info": {
   "codemirror_mode": {
    "name": "ipython",
    "version": 3
   },
   "file_extension": ".py",
   "mimetype": "text/x-python",
   "name": "python",
   "nbconvert_exporter": "python",
   "pygments_lexer": "ipython3",
   "version": "3.8.0"
  }
 },
 "nbformat": 4,
 "nbformat_minor": 4
}
